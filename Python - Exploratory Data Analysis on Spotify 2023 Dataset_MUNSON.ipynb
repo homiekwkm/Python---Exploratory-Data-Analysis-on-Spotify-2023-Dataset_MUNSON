{
 "cells": [
  {
   "cell_type": "code",
   "execution_count": 3,
   "id": "a60afe74-4711-4abf-8977-86a83f6108ec",
   "metadata": {},
   "outputs": [],
   "source": [
    "import pandas as pd\n",
    "import matplotlib.pyplot as plt\n",
    "import seaborn as sns"
   ]
  },
  {
   "cell_type": "code",
   "execution_count": 4,
   "id": "1a27650a-df7a-4336-a89c-a65a36d9d3e8",
   "metadata": {},
   "outputs": [
    {
     "data": {
      "text/html": [
       "<div>\n",
       "<style scoped>\n",
       "    .dataframe tbody tr th:only-of-type {\n",
       "        vertical-align: middle;\n",
       "    }\n",
       "\n",
       "    .dataframe tbody tr th {\n",
       "        vertical-align: top;\n",
       "    }\n",
       "\n",
       "    .dataframe thead th {\n",
       "        text-align: right;\n",
       "    }\n",
       "</style>\n",
       "<table border=\"1\" class=\"dataframe\">\n",
       "  <thead>\n",
       "    <tr style=\"text-align: right;\">\n",
       "      <th></th>\n",
       "      <th>track_name</th>\n",
       "      <th>artist(s)_name</th>\n",
       "      <th>artist_count</th>\n",
       "      <th>released_year</th>\n",
       "      <th>released_month</th>\n",
       "      <th>released_day</th>\n",
       "      <th>in_spotify_playlists</th>\n",
       "      <th>in_spotify_charts</th>\n",
       "      <th>streams</th>\n",
       "      <th>in_apple_playlists</th>\n",
       "      <th>...</th>\n",
       "      <th>bpm</th>\n",
       "      <th>key</th>\n",
       "      <th>mode</th>\n",
       "      <th>danceability_%</th>\n",
       "      <th>valence_%</th>\n",
       "      <th>energy_%</th>\n",
       "      <th>acousticness_%</th>\n",
       "      <th>instrumentalness_%</th>\n",
       "      <th>liveness_%</th>\n",
       "      <th>speechiness_%</th>\n",
       "    </tr>\n",
       "  </thead>\n",
       "  <tbody>\n",
       "    <tr>\n",
       "      <th>0</th>\n",
       "      <td>Seven (feat. Latto) (Explicit Ver.)</td>\n",
       "      <td>Latto, Jung Kook</td>\n",
       "      <td>2</td>\n",
       "      <td>2023</td>\n",
       "      <td>7</td>\n",
       "      <td>14</td>\n",
       "      <td>553</td>\n",
       "      <td>147</td>\n",
       "      <td>141381703</td>\n",
       "      <td>43</td>\n",
       "      <td>...</td>\n",
       "      <td>125</td>\n",
       "      <td>B</td>\n",
       "      <td>Major</td>\n",
       "      <td>80</td>\n",
       "      <td>89</td>\n",
       "      <td>83</td>\n",
       "      <td>31</td>\n",
       "      <td>0</td>\n",
       "      <td>8</td>\n",
       "      <td>4</td>\n",
       "    </tr>\n",
       "    <tr>\n",
       "      <th>1</th>\n",
       "      <td>LALA</td>\n",
       "      <td>Myke Towers</td>\n",
       "      <td>1</td>\n",
       "      <td>2023</td>\n",
       "      <td>3</td>\n",
       "      <td>23</td>\n",
       "      <td>1474</td>\n",
       "      <td>48</td>\n",
       "      <td>133716286</td>\n",
       "      <td>48</td>\n",
       "      <td>...</td>\n",
       "      <td>92</td>\n",
       "      <td>C#</td>\n",
       "      <td>Major</td>\n",
       "      <td>71</td>\n",
       "      <td>61</td>\n",
       "      <td>74</td>\n",
       "      <td>7</td>\n",
       "      <td>0</td>\n",
       "      <td>10</td>\n",
       "      <td>4</td>\n",
       "    </tr>\n",
       "    <tr>\n",
       "      <th>2</th>\n",
       "      <td>vampire</td>\n",
       "      <td>Olivia Rodrigo</td>\n",
       "      <td>1</td>\n",
       "      <td>2023</td>\n",
       "      <td>6</td>\n",
       "      <td>30</td>\n",
       "      <td>1397</td>\n",
       "      <td>113</td>\n",
       "      <td>140003974</td>\n",
       "      <td>94</td>\n",
       "      <td>...</td>\n",
       "      <td>138</td>\n",
       "      <td>F</td>\n",
       "      <td>Major</td>\n",
       "      <td>51</td>\n",
       "      <td>32</td>\n",
       "      <td>53</td>\n",
       "      <td>17</td>\n",
       "      <td>0</td>\n",
       "      <td>31</td>\n",
       "      <td>6</td>\n",
       "    </tr>\n",
       "    <tr>\n",
       "      <th>3</th>\n",
       "      <td>Cruel Summer</td>\n",
       "      <td>Taylor Swift</td>\n",
       "      <td>1</td>\n",
       "      <td>2019</td>\n",
       "      <td>8</td>\n",
       "      <td>23</td>\n",
       "      <td>7858</td>\n",
       "      <td>100</td>\n",
       "      <td>800840817</td>\n",
       "      <td>116</td>\n",
       "      <td>...</td>\n",
       "      <td>170</td>\n",
       "      <td>A</td>\n",
       "      <td>Major</td>\n",
       "      <td>55</td>\n",
       "      <td>58</td>\n",
       "      <td>72</td>\n",
       "      <td>11</td>\n",
       "      <td>0</td>\n",
       "      <td>11</td>\n",
       "      <td>15</td>\n",
       "    </tr>\n",
       "    <tr>\n",
       "      <th>4</th>\n",
       "      <td>WHERE SHE GOES</td>\n",
       "      <td>Bad Bunny</td>\n",
       "      <td>1</td>\n",
       "      <td>2023</td>\n",
       "      <td>5</td>\n",
       "      <td>18</td>\n",
       "      <td>3133</td>\n",
       "      <td>50</td>\n",
       "      <td>303236322</td>\n",
       "      <td>84</td>\n",
       "      <td>...</td>\n",
       "      <td>144</td>\n",
       "      <td>A</td>\n",
       "      <td>Minor</td>\n",
       "      <td>65</td>\n",
       "      <td>23</td>\n",
       "      <td>80</td>\n",
       "      <td>14</td>\n",
       "      <td>63</td>\n",
       "      <td>11</td>\n",
       "      <td>6</td>\n",
       "    </tr>\n",
       "    <tr>\n",
       "      <th>...</th>\n",
       "      <td>...</td>\n",
       "      <td>...</td>\n",
       "      <td>...</td>\n",
       "      <td>...</td>\n",
       "      <td>...</td>\n",
       "      <td>...</td>\n",
       "      <td>...</td>\n",
       "      <td>...</td>\n",
       "      <td>...</td>\n",
       "      <td>...</td>\n",
       "      <td>...</td>\n",
       "      <td>...</td>\n",
       "      <td>...</td>\n",
       "      <td>...</td>\n",
       "      <td>...</td>\n",
       "      <td>...</td>\n",
       "      <td>...</td>\n",
       "      <td>...</td>\n",
       "      <td>...</td>\n",
       "      <td>...</td>\n",
       "      <td>...</td>\n",
       "    </tr>\n",
       "    <tr>\n",
       "      <th>948</th>\n",
       "      <td>My Mind &amp; Me</td>\n",
       "      <td>Selena Gomez</td>\n",
       "      <td>1</td>\n",
       "      <td>2022</td>\n",
       "      <td>11</td>\n",
       "      <td>3</td>\n",
       "      <td>953</td>\n",
       "      <td>0</td>\n",
       "      <td>91473363</td>\n",
       "      <td>61</td>\n",
       "      <td>...</td>\n",
       "      <td>144</td>\n",
       "      <td>A</td>\n",
       "      <td>Major</td>\n",
       "      <td>60</td>\n",
       "      <td>24</td>\n",
       "      <td>39</td>\n",
       "      <td>57</td>\n",
       "      <td>0</td>\n",
       "      <td>8</td>\n",
       "      <td>3</td>\n",
       "    </tr>\n",
       "    <tr>\n",
       "      <th>949</th>\n",
       "      <td>Bigger Than The Whole Sky</td>\n",
       "      <td>Taylor Swift</td>\n",
       "      <td>1</td>\n",
       "      <td>2022</td>\n",
       "      <td>10</td>\n",
       "      <td>21</td>\n",
       "      <td>1180</td>\n",
       "      <td>0</td>\n",
       "      <td>121871870</td>\n",
       "      <td>4</td>\n",
       "      <td>...</td>\n",
       "      <td>166</td>\n",
       "      <td>F#</td>\n",
       "      <td>Major</td>\n",
       "      <td>42</td>\n",
       "      <td>7</td>\n",
       "      <td>24</td>\n",
       "      <td>83</td>\n",
       "      <td>1</td>\n",
       "      <td>12</td>\n",
       "      <td>6</td>\n",
       "    </tr>\n",
       "    <tr>\n",
       "      <th>950</th>\n",
       "      <td>A Veces (feat. Feid)</td>\n",
       "      <td>Feid, Paulo Londra</td>\n",
       "      <td>2</td>\n",
       "      <td>2022</td>\n",
       "      <td>11</td>\n",
       "      <td>3</td>\n",
       "      <td>573</td>\n",
       "      <td>0</td>\n",
       "      <td>73513683</td>\n",
       "      <td>2</td>\n",
       "      <td>...</td>\n",
       "      <td>92</td>\n",
       "      <td>C#</td>\n",
       "      <td>Major</td>\n",
       "      <td>80</td>\n",
       "      <td>81</td>\n",
       "      <td>67</td>\n",
       "      <td>4</td>\n",
       "      <td>0</td>\n",
       "      <td>8</td>\n",
       "      <td>6</td>\n",
       "    </tr>\n",
       "    <tr>\n",
       "      <th>951</th>\n",
       "      <td>En La De Ella</td>\n",
       "      <td>Feid, Sech, Jhayco</td>\n",
       "      <td>3</td>\n",
       "      <td>2022</td>\n",
       "      <td>10</td>\n",
       "      <td>20</td>\n",
       "      <td>1320</td>\n",
       "      <td>0</td>\n",
       "      <td>133895612</td>\n",
       "      <td>29</td>\n",
       "      <td>...</td>\n",
       "      <td>97</td>\n",
       "      <td>C#</td>\n",
       "      <td>Major</td>\n",
       "      <td>82</td>\n",
       "      <td>67</td>\n",
       "      <td>77</td>\n",
       "      <td>8</td>\n",
       "      <td>0</td>\n",
       "      <td>12</td>\n",
       "      <td>5</td>\n",
       "    </tr>\n",
       "    <tr>\n",
       "      <th>952</th>\n",
       "      <td>Alone</td>\n",
       "      <td>Burna Boy</td>\n",
       "      <td>1</td>\n",
       "      <td>2022</td>\n",
       "      <td>11</td>\n",
       "      <td>4</td>\n",
       "      <td>782</td>\n",
       "      <td>2</td>\n",
       "      <td>96007391</td>\n",
       "      <td>27</td>\n",
       "      <td>...</td>\n",
       "      <td>90</td>\n",
       "      <td>E</td>\n",
       "      <td>Minor</td>\n",
       "      <td>61</td>\n",
       "      <td>32</td>\n",
       "      <td>67</td>\n",
       "      <td>15</td>\n",
       "      <td>0</td>\n",
       "      <td>11</td>\n",
       "      <td>5</td>\n",
       "    </tr>\n",
       "  </tbody>\n",
       "</table>\n",
       "<p>953 rows × 24 columns</p>\n",
       "</div>"
      ],
      "text/plain": [
       "                              track_name      artist(s)_name  artist_count  \\\n",
       "0    Seven (feat. Latto) (Explicit Ver.)    Latto, Jung Kook             2   \n",
       "1                                   LALA         Myke Towers             1   \n",
       "2                                vampire      Olivia Rodrigo             1   \n",
       "3                           Cruel Summer        Taylor Swift             1   \n",
       "4                         WHERE SHE GOES           Bad Bunny             1   \n",
       "..                                   ...                 ...           ...   \n",
       "948                         My Mind & Me        Selena Gomez             1   \n",
       "949            Bigger Than The Whole Sky        Taylor Swift             1   \n",
       "950                 A Veces (feat. Feid)  Feid, Paulo Londra             2   \n",
       "951                        En La De Ella  Feid, Sech, Jhayco             3   \n",
       "952                                Alone           Burna Boy             1   \n",
       "\n",
       "     released_year  released_month  released_day  in_spotify_playlists  \\\n",
       "0             2023               7            14                   553   \n",
       "1             2023               3            23                  1474   \n",
       "2             2023               6            30                  1397   \n",
       "3             2019               8            23                  7858   \n",
       "4             2023               5            18                  3133   \n",
       "..             ...             ...           ...                   ...   \n",
       "948           2022              11             3                   953   \n",
       "949           2022              10            21                  1180   \n",
       "950           2022              11             3                   573   \n",
       "951           2022              10            20                  1320   \n",
       "952           2022              11             4                   782   \n",
       "\n",
       "     in_spotify_charts    streams  in_apple_playlists  ...  bpm key   mode  \\\n",
       "0                  147  141381703                  43  ...  125   B  Major   \n",
       "1                   48  133716286                  48  ...   92  C#  Major   \n",
       "2                  113  140003974                  94  ...  138   F  Major   \n",
       "3                  100  800840817                 116  ...  170   A  Major   \n",
       "4                   50  303236322                  84  ...  144   A  Minor   \n",
       "..                 ...        ...                 ...  ...  ...  ..    ...   \n",
       "948                  0   91473363                  61  ...  144   A  Major   \n",
       "949                  0  121871870                   4  ...  166  F#  Major   \n",
       "950                  0   73513683                   2  ...   92  C#  Major   \n",
       "951                  0  133895612                  29  ...   97  C#  Major   \n",
       "952                  2   96007391                  27  ...   90   E  Minor   \n",
       "\n",
       "    danceability_%  valence_% energy_% acousticness_%  instrumentalness_%  \\\n",
       "0               80         89       83             31                   0   \n",
       "1               71         61       74              7                   0   \n",
       "2               51         32       53             17                   0   \n",
       "3               55         58       72             11                   0   \n",
       "4               65         23       80             14                  63   \n",
       "..             ...        ...      ...            ...                 ...   \n",
       "948             60         24       39             57                   0   \n",
       "949             42          7       24             83                   1   \n",
       "950             80         81       67              4                   0   \n",
       "951             82         67       77              8                   0   \n",
       "952             61         32       67             15                   0   \n",
       "\n",
       "     liveness_%  speechiness_%  \n",
       "0             8              4  \n",
       "1            10              4  \n",
       "2            31              6  \n",
       "3            11             15  \n",
       "4            11              6  \n",
       "..          ...            ...  \n",
       "948           8              3  \n",
       "949          12              6  \n",
       "950           8              6  \n",
       "951          12              5  \n",
       "952          11              5  \n",
       "\n",
       "[953 rows x 24 columns]"
      ]
     },
     "execution_count": 4,
     "metadata": {},
     "output_type": "execute_result"
    }
   ],
   "source": [
    "#Read the .csv file; encoding='latin-1' to enable reading the file without error\n",
    "data = pd.read_csv('spotify-2023.csv',encoding='latin-1')\n",
    "data"
   ]
  },
  {
   "cell_type": "markdown",
   "id": "b152815f-bf47-415f-a16a-f59360931827",
   "metadata": {},
   "source": [
    "# Overview of Dataset"
   ]
  },
  {
   "cell_type": "markdown",
   "id": "a43e4fcb-fb24-4f9a-873a-d3a87ba44079",
   "metadata": {},
   "source": [
    "### How many rows and columns does the dataset contain?\n"
   ]
  },
  {
   "cell_type": "markdown",
   "id": "b39b9189-6f82-4080-94bd-87d095e8f6f7",
   "metadata": {},
   "source": [
    "The amount of rows in the dataset is 953, while the amount of columns is 24."
   ]
  },
  {
   "cell_type": "code",
   "execution_count": 9,
   "id": "2caeaa77-2413-4be7-9e2e-45fde56ea019",
   "metadata": {},
   "outputs": [
    {
     "data": {
      "text/plain": [
       "(953, 24)"
      ]
     },
     "execution_count": 9,
     "metadata": {},
     "output_type": "execute_result"
    }
   ],
   "source": [
    "#Get the shape of data in order to find amount of rows and columns\n",
    "data.shape"
   ]
  },
  {
   "cell_type": "markdown",
   "id": "618fd7cb-24a4-481f-ae68-d22ca468c481",
   "metadata": {},
   "source": [
    "### What are the data types? Are there any missing values?"
   ]
  },
  {
   "cell_type": "markdown",
   "id": "50ae24b0-33bc-4ab1-907a-e35ad7f42ab0",
   "metadata": {},
   "source": [
    "The data types in the dataset consist of integers and objects. There are two data types with missing values: in_shazam_charts and key. The missing values in in_shazam_charts are 50, and the missing values in key are 95. The datatypes and missing values are presented by the code below:"
   ]
  },
  {
   "cell_type": "code",
   "execution_count": 13,
   "id": "901bb6bc-c01f-408b-91bf-547885e58bf8",
   "metadata": {},
   "outputs": [
    {
     "name": "stdout",
     "output_type": "stream",
     "text": [
      "Dataset data types: \n",
      " track_name              object\n",
      "artist(s)_name          object\n",
      "artist_count             int64\n",
      "released_year            int64\n",
      "released_month           int64\n",
      "released_day             int64\n",
      "in_spotify_playlists     int64\n",
      "in_spotify_charts        int64\n",
      "streams                 object\n",
      "in_apple_playlists       int64\n",
      "in_apple_charts          int64\n",
      "in_deezer_playlists     object\n",
      "in_deezer_charts         int64\n",
      "in_shazam_charts        object\n",
      "bpm                      int64\n",
      "key                     object\n",
      "mode                    object\n",
      "danceability_%           int64\n",
      "valence_%                int64\n",
      "energy_%                 int64\n",
      "acousticness_%           int64\n",
      "instrumentalness_%       int64\n",
      "liveness_%               int64\n",
      "speechiness_%            int64\n",
      "dtype: object\n",
      "\n",
      "Dataset missing values: \n",
      " track_name               0\n",
      "artist(s)_name           0\n",
      "artist_count             0\n",
      "released_year            0\n",
      "released_month           0\n",
      "released_day             0\n",
      "in_spotify_playlists     0\n",
      "in_spotify_charts        0\n",
      "streams                  0\n",
      "in_apple_playlists       0\n",
      "in_apple_charts          0\n",
      "in_deezer_playlists      0\n",
      "in_deezer_charts         0\n",
      "in_shazam_charts        50\n",
      "bpm                      0\n",
      "key                     95\n",
      "mode                     0\n",
      "danceability_%           0\n",
      "valence_%                0\n",
      "energy_%                 0\n",
      "acousticness_%           0\n",
      "instrumentalness_%       0\n",
      "liveness_%               0\n",
      "speechiness_%            0\n",
      "dtype: int64\n"
     ]
    }
   ],
   "source": [
    "#dtypes attribute displays the data types of the functions within the dataset\n",
    "dataset_data_types = data.dtypes\n",
    "\n",
    "#Find the missing values in each column then get the sum for each datatype\n",
    "missing_values = data.isnull()\n",
    "total_missing_values = missing_values.sum()\n",
    "\n",
    "#Print the results\n",
    "print('Dataset data types: \\n', dataset_data_types)\n",
    "print('\\nDataset missing values: \\n', total_missing_values) "
   ]
  },
  {
   "cell_type": "markdown",
   "id": "e0d98069-fc0e-4d3a-9931-c45d7a95496c",
   "metadata": {},
   "source": [
    "# Basic Descriptive Statistics\r\n"
   ]
  },
  {
   "cell_type": "markdown",
   "id": "bf13dd52-9509-46f6-bf9f-6cccda95fa40",
   "metadata": {},
   "source": [
    "### What are the mean, median, and standard deviation of the streams column?"
   ]
  },
  {
   "cell_type": "markdown",
   "id": "43ae9b8d-3405-4839-83c6-8cf468f7658d",
   "metadata": {},
   "source": [
    "The mean of the streams column is 514137424.93907565, the median is 290530915.0, and standard deviation of the streams column is 566856949.0388832."
   ]
  },
  {
   "cell_type": "code",
   "execution_count": 124,
   "id": "fddec8b4-8f71-42ca-9185-cd8a70fe44f6",
   "metadata": {},
   "outputs": [
    {
     "name": "stdout",
     "output_type": "stream",
     "text": [
      "\n",
      "Mean of Streams:  514137424.93907565\n",
      "Median of Streams:  290530915.0\n",
      "Standard Deviation of Streams:  566856949.0388832\n"
     ]
    }
   ],
   "source": [
    "#Make it so that datatype values are only integers\n",
    "data['streams'] = pd.to_numeric(data['streams'], errors='coerce')\n",
    "\n",
    "#Individually get the values of each attribute: mean, median, and standard deviation.\n",
    "mean_streams = data['streams'].mean()\n",
    "median_streams = data['streams'].median()\n",
    "std_streams = data['streams'].std()\n",
    "\n",
    "#Print the results\n",
    "print('\\nMean of Streams: ', mean_streams)\n",
    "print('Median of Streams: ', median_streams)\n",
    "print('Standard Deviation of Streams: ', std_streams)"
   ]
  },
  {
   "cell_type": "markdown",
   "id": "d00dba0f-4617-4cfc-b635-b2ef76d035ff",
   "metadata": {},
   "source": [
    "### What is the distribution of released_year and artist_count? Are there any noticeable trends or outliers?"
   ]
  },
  {
   "cell_type": "markdown",
   "id": "4caa01aa-9290-4d57-8a84-1fdc3115daaf",
   "metadata": {},
   "source": [
    "In terms of distribution of released_year, the tracks per year are generally in the single digit to double digit range, with the amount of tracks generally increasing the more recent the year. The outliers here are the years 2023, 2022, and 2021, as the amounts of tracks streamed in those years go past the hundreds. By the graph below, the noticeable trend is that the number of tracks played per released year increase as it approaches the present. In terms of distribution of artist_count, a majority of the streamed tracks are by a single artist, with the major outliers being the two tracks including 7 artists, and the 8 tracks including 8 artists.   "
   ]
  },
  {
   "cell_type": "code",
   "execution_count": 24,
   "id": "240b86a7-33d9-4ad5-a228-5bd011506151",
   "metadata": {},
   "outputs": [
    {
     "name": "stdout",
     "output_type": "stream",
     "text": [
      "Distribution of released year:\n",
      " released_year\n",
      "2023    175\n",
      "2022    402\n",
      "2021    119\n",
      "2020     37\n",
      "2019     36\n",
      "2018     10\n",
      "2017     23\n",
      "2016     18\n",
      "2015     11\n",
      "2014     13\n",
      "Name: count, dtype: int64\n",
      "\n",
      "Distribution of arist count \n",
      " artist_count\n",
      "1    587\n",
      "2    254\n",
      "3     85\n",
      "4     15\n",
      "5      5\n",
      "6      3\n",
      "7      2\n",
      "8      2\n",
      "Name: count, dtype: int64\n"
     ]
    },
    {
     "data": {
      "image/png": "[encoded data removed]",
      "text/plain": [
       "<Figure size 1200x500 with 1 Axes>"
      ]
     },
     "metadata": {},
     "output_type": "display_data"
    },
    {
     "data": {
      "image/png": "[encoded data removed]",
      "text/plain": [
       "<Figure size 1200x500 with 1 Axes>"
      ]
     },
     "metadata": {},
     "output_type": "display_data"
    }
   ],
   "source": [
    "#Count the values of the datatypes by the amount of their appearances in the dataset\n",
    "released_years_distribution = data['released_year'].value_counts().sort_index()\n",
    "artist_count_distribution = data['artist_count'].value_counts().sort_index()\n",
    "\n",
    "#Print the results\n",
    "print('Distribution of released year:\\n',released_years_distribution[::-1].head(10))\n",
    "print('\\nDistribution of arist count \\n', artist_count_distribution)\n",
    "\n",
    "#Create the bar graph for distribution of released year\n",
    "plt.figure(figsize=(12, 5)) #Set the size of the visual\n",
    "sns.barplot(x=released_years_distribution.index, y=released_years_distribution.values) #Assign the x and y variables\n",
    "plt.xlabel('Released Year') #Name the x label of the graph\n",
    "plt.ylabel('Number of tracks') #Name the y label of the graph\n",
    "plt.title('Distribution of released year') #Name the title\n",
    "plt.xticks(rotation=50) #Rotate the index of x by 50 degrees for more understandable visualization\n",
    "\n",
    "#Create the bar graph for distribution of artist count\n",
    "plt.figure(figsize=(12, 5)) #Set the size of the visual\n",
    "sns.barplot(x=artist_count_distribution.index, y=artist_count_distribution.values) #Assign the x and y variables\n",
    "plt.xlabel('Number of artists') #Name the x label of the graph\n",
    "plt.ylabel('Number of tracks') #Name the y label of the graph\n",
    "plt.title('Distribution of artist count') #Name the title\n",
    "\n",
    "plt.show()"
   ]
  },
  {
   "cell_type": "markdown",
   "id": "1a5c2129-4adc-4fd2-9f6c-e4669f36c236",
   "metadata": {},
   "source": [
    "# Top Performers\r\n"
   ]
  },
  {
   "cell_type": "markdown",
   "id": "8a2631a2-8634-493a-b44c-d297873f2282",
   "metadata": {},
   "source": [
    "### Which track has the highest number of streams? Display the top 5 most streamed tracks."
   ]
  },
  {
   "cell_type": "markdown",
   "id": "5aeba80b-dc4f-4149-ba9e-cfaafb4a1f0f",
   "metadata": {},
   "source": [
    "The track with the highest number of streams is \"Blinding Lights\" by The Weeknd, with 3,703,895,074 \n",
    "streams. The four other tracks are displayed below:"
   ]
  },
  {
   "cell_type": "code",
   "execution_count": 28,
   "id": "5b116890-b507-4df1-ac46-7df627c367ab",
   "metadata": {
    "scrolled": true
   },
   "outputs": [
    {
     "data": {
      "text/html": [
       "<div>\n",
       "<style scoped>\n",
       "    .dataframe tbody tr th:only-of-type {\n",
       "        vertical-align: middle;\n",
       "    }\n",
       "\n",
       "    .dataframe tbody tr th {\n",
       "        vertical-align: top;\n",
       "    }\n",
       "\n",
       "    .dataframe thead th {\n",
       "        text-align: right;\n",
       "    }\n",
       "</style>\n",
       "<table border=\"1\" class=\"dataframe\">\n",
       "  <thead>\n",
       "    <tr style=\"text-align: right;\">\n",
       "      <th></th>\n",
       "      <th>track_name</th>\n",
       "      <th>artist(s)_name</th>\n",
       "      <th>artist_count</th>\n",
       "      <th>released_year</th>\n",
       "      <th>released_month</th>\n",
       "      <th>released_day</th>\n",
       "      <th>in_spotify_playlists</th>\n",
       "      <th>in_spotify_charts</th>\n",
       "      <th>streams</th>\n",
       "      <th>in_apple_playlists</th>\n",
       "      <th>...</th>\n",
       "      <th>bpm</th>\n",
       "      <th>key</th>\n",
       "      <th>mode</th>\n",
       "      <th>danceability_%</th>\n",
       "      <th>valence_%</th>\n",
       "      <th>energy_%</th>\n",
       "      <th>acousticness_%</th>\n",
       "      <th>instrumentalness_%</th>\n",
       "      <th>liveness_%</th>\n",
       "      <th>speechiness_%</th>\n",
       "    </tr>\n",
       "  </thead>\n",
       "  <tbody>\n",
       "    <tr>\n",
       "      <th>55</th>\n",
       "      <td>Blinding Lights</td>\n",
       "      <td>The Weeknd</td>\n",
       "      <td>1</td>\n",
       "      <td>2019</td>\n",
       "      <td>11</td>\n",
       "      <td>29</td>\n",
       "      <td>43899</td>\n",
       "      <td>69</td>\n",
       "      <td>3.703895e+09</td>\n",
       "      <td>672</td>\n",
       "      <td>...</td>\n",
       "      <td>171</td>\n",
       "      <td>C#</td>\n",
       "      <td>Major</td>\n",
       "      <td>50</td>\n",
       "      <td>38</td>\n",
       "      <td>80</td>\n",
       "      <td>0</td>\n",
       "      <td>0</td>\n",
       "      <td>9</td>\n",
       "      <td>7</td>\n",
       "    </tr>\n",
       "    <tr>\n",
       "      <th>179</th>\n",
       "      <td>Shape of You</td>\n",
       "      <td>Ed Sheeran</td>\n",
       "      <td>1</td>\n",
       "      <td>2017</td>\n",
       "      <td>1</td>\n",
       "      <td>6</td>\n",
       "      <td>32181</td>\n",
       "      <td>10</td>\n",
       "      <td>3.562544e+09</td>\n",
       "      <td>33</td>\n",
       "      <td>...</td>\n",
       "      <td>96</td>\n",
       "      <td>C#</td>\n",
       "      <td>Minor</td>\n",
       "      <td>83</td>\n",
       "      <td>93</td>\n",
       "      <td>65</td>\n",
       "      <td>58</td>\n",
       "      <td>0</td>\n",
       "      <td>9</td>\n",
       "      <td>8</td>\n",
       "    </tr>\n",
       "    <tr>\n",
       "      <th>86</th>\n",
       "      <td>Someone You Loved</td>\n",
       "      <td>Lewis Capaldi</td>\n",
       "      <td>1</td>\n",
       "      <td>2018</td>\n",
       "      <td>11</td>\n",
       "      <td>8</td>\n",
       "      <td>17836</td>\n",
       "      <td>53</td>\n",
       "      <td>2.887242e+09</td>\n",
       "      <td>440</td>\n",
       "      <td>...</td>\n",
       "      <td>110</td>\n",
       "      <td>C#</td>\n",
       "      <td>Major</td>\n",
       "      <td>50</td>\n",
       "      <td>45</td>\n",
       "      <td>41</td>\n",
       "      <td>75</td>\n",
       "      <td>0</td>\n",
       "      <td>11</td>\n",
       "      <td>3</td>\n",
       "    </tr>\n",
       "    <tr>\n",
       "      <th>620</th>\n",
       "      <td>Dance Monkey</td>\n",
       "      <td>Tones and I</td>\n",
       "      <td>1</td>\n",
       "      <td>2019</td>\n",
       "      <td>5</td>\n",
       "      <td>10</td>\n",
       "      <td>24529</td>\n",
       "      <td>0</td>\n",
       "      <td>2.864792e+09</td>\n",
       "      <td>533</td>\n",
       "      <td>...</td>\n",
       "      <td>98</td>\n",
       "      <td>F#</td>\n",
       "      <td>Minor</td>\n",
       "      <td>82</td>\n",
       "      <td>54</td>\n",
       "      <td>59</td>\n",
       "      <td>69</td>\n",
       "      <td>0</td>\n",
       "      <td>18</td>\n",
       "      <td>10</td>\n",
       "    </tr>\n",
       "    <tr>\n",
       "      <th>41</th>\n",
       "      <td>Sunflower - Spider-Man: Into the Spider-Verse</td>\n",
       "      <td>Post Malone, Swae Lee</td>\n",
       "      <td>2</td>\n",
       "      <td>2018</td>\n",
       "      <td>10</td>\n",
       "      <td>9</td>\n",
       "      <td>24094</td>\n",
       "      <td>78</td>\n",
       "      <td>2.808097e+09</td>\n",
       "      <td>372</td>\n",
       "      <td>...</td>\n",
       "      <td>90</td>\n",
       "      <td>D</td>\n",
       "      <td>Major</td>\n",
       "      <td>76</td>\n",
       "      <td>91</td>\n",
       "      <td>50</td>\n",
       "      <td>54</td>\n",
       "      <td>0</td>\n",
       "      <td>7</td>\n",
       "      <td>5</td>\n",
       "    </tr>\n",
       "  </tbody>\n",
       "</table>\n",
       "<p>5 rows × 24 columns</p>\n",
       "</div>"
      ],
      "text/plain": [
       "                                        track_name         artist(s)_name  \\\n",
       "55                                 Blinding Lights             The Weeknd   \n",
       "179                                   Shape of You             Ed Sheeran   \n",
       "86                               Someone You Loved          Lewis Capaldi   \n",
       "620                                   Dance Monkey            Tones and I   \n",
       "41   Sunflower - Spider-Man: Into the Spider-Verse  Post Malone, Swae Lee   \n",
       "\n",
       "     artist_count  released_year  released_month  released_day  \\\n",
       "55              1           2019              11            29   \n",
       "179             1           2017               1             6   \n",
       "86              1           2018              11             8   \n",
       "620             1           2019               5            10   \n",
       "41              2           2018              10             9   \n",
       "\n",
       "     in_spotify_playlists  in_spotify_charts       streams  \\\n",
       "55                  43899                 69  3.703895e+09   \n",
       "179                 32181                 10  3.562544e+09   \n",
       "86                  17836                 53  2.887242e+09   \n",
       "620                 24529                  0  2.864792e+09   \n",
       "41                  24094                 78  2.808097e+09   \n",
       "\n",
       "     in_apple_playlists  ...  bpm key   mode danceability_%  valence_%  \\\n",
       "55                  672  ...  171  C#  Major             50         38   \n",
       "179                  33  ...   96  C#  Minor             83         93   \n",
       "86                  440  ...  110  C#  Major             50         45   \n",
       "620                 533  ...   98  F#  Minor             82         54   \n",
       "41                  372  ...   90   D  Major             76         91   \n",
       "\n",
       "    energy_% acousticness_%  instrumentalness_%  liveness_%  speechiness_%  \n",
       "55        80              0                   0           9              7  \n",
       "179       65             58                   0           9              8  \n",
       "86        41             75                   0          11              3  \n",
       "620       59             69                   0          18             10  \n",
       "41        50             54                   0           7              5  \n",
       "\n",
       "[5 rows x 24 columns]"
      ]
     },
     "execution_count": 28,
     "metadata": {},
     "output_type": "execute_result"
    }
   ],
   "source": [
    "#Sort data by streams; arrange it in a descending order\n",
    "most_streamed_tracks = data.sort_values(by = 'streams', ascending=False)\n",
    "\n",
    "#Display only the top 5 entries\n",
    "most_streamed_tracks.head()"
   ]
  },
  {
   "cell_type": "markdown",
   "id": "4b35897a-877f-4c85-9b23-e35a0b696c5f",
   "metadata": {},
   "source": [
    "### Who are the top 5 most frequent artists based on the number of tracks in the dataset?"
   ]
  },
  {
   "cell_type": "markdown",
   "id": "f5aca3ad-5bd0-49aa-970c-fe10ffc8e2c8",
   "metadata": {},
   "source": [
    "The five most frequent artists are as shown:"
   ]
  },
  {
   "cell_type": "code",
   "execution_count": 34,
   "id": "81f7c75a-7a3a-4093-b816-6b48c708c121",
   "metadata": {},
   "outputs": [
    {
     "name": "stdout",
     "output_type": "stream",
     "text": [
      "Top 5 most frequent artists: \n",
      " artist(s)_name\n",
      "Taylor Swift    34\n",
      "The Weeknd      22\n",
      "Bad Bunny       19\n",
      "SZA             19\n",
      "Harry Styles    17\n",
      "Name: count, dtype: int64\n"
     ]
    }
   ],
   "source": [
    "#Count the values of the datatype by the amount of their appearances in the dataset\n",
    "top_5_artists = data['artist(s)_name'].value_counts()\n",
    "\n",
    "#Print the results, showing only the top 5 entries\n",
    "print('Top 5 most frequent artists: \\n', top_5_artists.head())"
   ]
  },
  {
   "cell_type": "markdown",
   "id": "52b9a5e0-3ea9-49af-9826-0e82fdcac15e",
   "metadata": {},
   "source": [
    "#  Temporal Trends\r\n"
   ]
  },
  {
   "cell_type": "markdown",
   "id": "62a4a6e3-45e1-4900-a6f7-d3fbd4821e61",
   "metadata": {},
   "source": [
    "### Analyze the trends in the number of tracks released over time. Plot the number of tracks released per year."
   ]
  },
  {
   "cell_type": "markdown",
   "id": "8b497217-fad9-45a3-9beb-fe6efddb77e6",
   "metadata": {},
   "source": [
    "The visual representation and values can be observed by the following code:"
   ]
  },
  {
   "cell_type": "code",
   "execution_count": 38,
   "id": "da80d5a7-96a3-4d0b-a8cb-f9500ac939dd",
   "metadata": {},
   "outputs": [
    {
     "data": {
      "image/png": "[encoded data removed]",
      "text/plain": [
       "<Figure size 1200x500 with 1 Axes>"
      ]
     },
     "metadata": {},
     "output_type": "display_data"
    },
    {
     "name": "stdout",
     "output_type": "stream",
     "text": [
      "Tracks released per year released_year\n",
      "1930      1\n",
      "1942      1\n",
      "1946      1\n",
      "1950      1\n",
      "1952      1\n",
      "1957      2\n",
      "1958      3\n",
      "1959      2\n",
      "1963      3\n",
      "1968      1\n",
      "1970      2\n",
      "1971      1\n",
      "1973      1\n",
      "1975      2\n",
      "1979      1\n",
      "1982      2\n",
      "1983      1\n",
      "1984      4\n",
      "1985      2\n",
      "1986      2\n",
      "1987      1\n",
      "1991      2\n",
      "1992      1\n",
      "1994      1\n",
      "1995      2\n",
      "1996      1\n",
      "1997      1\n",
      "1998      1\n",
      "1999      5\n",
      "2000      4\n",
      "2002      6\n",
      "2003      2\n",
      "2004      4\n",
      "2005      1\n",
      "2007      1\n",
      "2008      2\n",
      "2010      7\n",
      "2011     10\n",
      "2012     10\n",
      "2013     13\n",
      "2014     13\n",
      "2015     11\n",
      "2016     18\n",
      "2017     23\n",
      "2018     10\n",
      "2019     36\n",
      "2020     37\n",
      "2021    119\n",
      "2022    402\n",
      "2023    175\n",
      "Name: count, dtype: int64\n"
     ]
    }
   ],
   "source": [
    "#Create the bar graph of the numbers of tracks released per year\n",
    "plt.figure(figsize=(12, 5)) #Set the size of the visual\n",
    "\n",
    "#Make use of the previously declared variable for the number of tracks released per year \n",
    "sns.barplot(x=released_years_distribution.index, y=released_years_distribution.values) #Assign the x and y variables\n",
    "plt.xlabel('Released Year') #Name the x label of the graph\n",
    "plt.ylabel('Number of tracks') #Name the y label of the graph\n",
    "plt.title('Number of tracks released per year') #Name the title\n",
    "plt.xticks(rotation=50) #Rotate the index of x by 50 degrees for more understandable visualization\n",
    "plt.show() \n",
    "\n",
    "#Print the count of tracks released per year\n",
    "print('Tracks released per year', released_years_distribution)"
   ]
  },
  {
   "cell_type": "markdown",
   "id": "5fcaaa35-0035-403d-88b2-fd64a5f55238",
   "metadata": {},
   "source": [
    "### Does the number of tracks released per month follow any noticeable patterns? Which month sees the most releases?"
   ]
  },
  {
   "cell_type": "markdown",
   "id": "19b9dca7-a350-4e27-96bb-92f6e84b0e59",
   "metadata": {},
   "source": [
    "The most number of tracks released are in the month of January. The noticeable pattern is that track releases peak in the first half of the year. "
   ]
  },
  {
   "cell_type": "code",
   "execution_count": 42,
   "id": "8f4f8e02-1e4a-4681-83c2-2be1f610cfa2",
   "metadata": {},
   "outputs": [
    {
     "name": "stdout",
     "output_type": "stream",
     "text": [
      "Tracks released in common month\n",
      " released_month\n",
      "1     134\n",
      "5     128\n",
      "3      86\n",
      "6      86\n",
      "11     80\n",
      "12     75\n",
      "10     73\n",
      "4      66\n",
      "7      62\n",
      "2      61\n",
      "9      56\n",
      "8      46\n",
      "Name: count, dtype: int64\n"
     ]
    },
    {
     "data": {
      "image/png": "[encoded data removed]",
      "text/plain": [
       "<Figure size 1000x600 with 1 Axes>"
      ]
     },
     "metadata": {},
     "output_type": "display_data"
    }
   ],
   "source": [
    "#Count the values of the datatype by the amount of their appearances in the dataset\n",
    "tracks_per_month = data['released_month'].value_counts().sort_index()\n",
    "\n",
    "#Print the values\n",
    "common_month = data['released_month'].value_counts()\n",
    "print('Tracks released in common month\\n', common_month)\n",
    "\n",
    "#Create the graph of the numbers of tracks released per month\n",
    "plt.figure(figsize=(10, 6)) #Set the size of the visual\n",
    "sns.barplot(x = tracks_per_month.index, y = tracks_per_month.values) #Assign the x and y variables \n",
    "plt.xlabel('Month') #Name the x label of the graph\n",
    "plt.ylabel('Number of tracks') #Name the y label of the graph\n",
    "plt.title('Tracks released per month') #Name the title\n",
    "plt.show()"
   ]
  },
  {
   "cell_type": "markdown",
   "id": "e240f57c-3575-44ea-9789-4c41a0f07525",
   "metadata": {},
   "source": [
    "# Genre and Music Characteristics\r\n",
    "# "
   ]
  },
  {
   "cell_type": "markdown",
   "id": "3b68fb0b-11d6-42d3-823e-9dfe11734365",
   "metadata": {},
   "source": [
    "### Examine the correlation between streams and musical attributes like bpm, danceability_%, and energy_%. Which attributes seem to influence streams the most?"
   ]
  },
  {
   "cell_type": "markdown",
   "id": "531fb5df-8c01-4eb5-bbbd-02c4f82c402e",
   "metadata": {},
   "source": [
    "Of the three attributes, they all have a negative correlation with streams. "
   ]
  },
  {
   "cell_type": "code",
   "execution_count": 46,
   "id": "d391db60-2f2c-4a22-ae33-2ae481b59798",
   "metadata": {},
   "outputs": [
    {
     "name": "stdout",
     "output_type": "stream",
     "text": [
      "bpm              -0.002438\n",
      "energy_%         -0.026051\n",
      "danceability_%   -0.105457\n",
      "Name: streams, dtype: float64\n"
     ]
    }
   ],
   "source": [
    "#Declare a variable with the needed data\n",
    "attributes = ['streams', 'bpm', 'danceability_%', 'energy_%']\n",
    "attributes_list = data[attributes]\n",
    "\n",
    "#Make it so that datatype values are only integers\n",
    "attributes_list = attributes_list.apply(pd.to_numeric, errors='coerce')\n",
    "\n",
    "#Find the correlation between data\n",
    "attribute_correlation = attributes_list.corr()\n",
    "\n",
    "#Drop streams; sort the correlation of the data\n",
    "stream_correlation = attribute_correlation['streams'].drop('streams').sort_values(ascending=False)\n",
    "\n",
    "#Print the result\n",
    "print(stream_correlation)"
   ]
  },
  {
   "cell_type": "markdown",
   "id": "ff332f86-bd54-4b70-99b1-85a7eff4e2e6",
   "metadata": {},
   "source": [
    "### Is there a correlation between danceability_% and energy_%? How about valence_% and acousticness_%?"
   ]
  },
  {
   "cell_type": "markdown",
   "id": "cee63343-e6f9-48cc-b86a-68a70d20ec03",
   "metadata": {},
   "source": [
    "Valence and acousticness has a negative correlation, but danceability and energy has a 0.1980948483762567 correlation."
   ]
  },
  {
   "cell_type": "code",
   "execution_count": 128,
   "id": "d99ff339-2c7a-468d-ac90-8c4c44355707",
   "metadata": {},
   "outputs": [
    {
     "name": "stdout",
     "output_type": "stream",
     "text": [
      "Danceability and Energy Correlation:  0.1980948483762567\n",
      "Valence and Acousticness Correlation:  -0.08190727483082776\n"
     ]
    }
   ],
   "source": [
    "#Declare a variable with the needed data\n",
    "other_attributes = ['danceability_%', 'energy_%', 'valence_%', 'acousticness_%']\n",
    "other_attributes_list = data[other_attributes]\n",
    "\n",
    "#Find the correlation between data\n",
    "other_attributes_correlation = other_attributes_list.corr()\n",
    "\n",
    "#Locate the necessary values\n",
    "danceability_energy_correlation = other_attributes_correlation.loc['danceability_%', 'energy_%']\n",
    "valence_acousticness_correlation = other_attributes_correlation.loc['valence_%','acousticness_%']\n",
    "\n",
    "#Print the results\n",
    "print('Danceability and Energy Correlation: ', danceability_energy_correlation)\n",
    "print('Valence and Acousticness Correlation: ', valence_acousticness_correlation)"
   ]
  },
  {
   "cell_type": "markdown",
   "id": "f82f591b-a7d7-4bca-96cb-5156a463b733",
   "metadata": {},
   "source": [
    "# Platform Popularity\r\n"
   ]
  },
  {
   "cell_type": "markdown",
   "id": "fd23e55d-4859-45f6-a15e-ff27b37c2166",
   "metadata": {},
   "source": [
    "### How do the numbers of tracks in spotify_playlists, spotify_charts, and apple_playlists compare? Which platform seems to favor the most popular tracks?"
   ]
  },
  {
   "cell_type": "markdown",
   "id": "590f0088-500e-4a5a-867b-5445e62eb725",
   "metadata": {},
   "source": [
    "As seen by the averages, Spotify is the far more popular platform in playlists when compared to Apple and Deezer."
   ]
  },
  {
   "cell_type": "code",
   "execution_count": 91,
   "id": "38fba376-e9a6-4414-a613-da2fa04f7f75",
   "metadata": {},
   "outputs": [
    {
     "name": "stdout",
     "output_type": "stream",
     "text": [
      "Average amount of tracks per Spotify playlist: \n",
      " 5200.124868835257\n",
      "\n",
      "Average amount of tracks per Apple playlist: \n",
      " 67.8121720881427\n",
      "\n",
      "Average amount of tracks per Deezer playlist: \n",
      " 109.74027459954233\n"
     ]
    },
    {
     "data": {
      "image/png": "[encoded data removed]",
      "text/plain": [
       "<Figure size 1000x600 with 1 Axes>"
      ]
     },
     "metadata": {},
     "output_type": "display_data"
    }
   ],
   "source": [
    "#Declare a variable with the needed data\n",
    "playlist_data = ['in_spotify_playlists', 'in_apple_playlists', 'in_deezer_playlists',]\n",
    "total_playlists = data[playlist_data]\n",
    "\n",
    "#Make it so that datatype values are only integers\n",
    "average_playlists = total_playlists.apply(pd.to_numeric,errors='coerce').mean()\n",
    "\n",
    "#Print the needed values\n",
    "print('Average amount of tracks per Spotify playlist: \\n', average_playlists['in_spotify_playlists'])\n",
    "print('\\nAverage amount of tracks per Apple playlist: \\n', average_playlists['in_apple_playlists'])\n",
    "print('\\nAverage amount of tracks per Deezer playlist: \\n', average_playlists['in_deezer_playlists'])\n",
    "\n",
    "#Create the bar graph of the numbers of tracks released per year\n",
    "plt.figure(figsize=(10, 6)) #Set the size of the visual\n",
    "sns.barplot(average_playlists) #Assign the values for the graph\n",
    "plt.ylabel('Number of tracks') #Name the y label of the graph\n",
    "plt.title('Platform popularity comparison') #Name the title\n",
    "plt.show()"
   ]
  },
  {
   "cell_type": "markdown",
   "id": "cce5615b-03cc-4a72-b0f1-230c5409657c",
   "metadata": {},
   "source": [
    "# Advanced Analysis\r\n"
   ]
  },
  {
   "cell_type": "markdown",
   "id": "b95b68c5-f1ad-40c9-9893-b44b8d535f19",
   "metadata": {},
   "source": [
    "### Based on the streams data, can you identify any patterns among tracks with the same key or mode (Major vs. Minor)?"
   ]
  },
  {
   "cell_type": "markdown",
   "id": "c181f79a-a699-4a21-a908-3bc1f4ed845b",
   "metadata": {},
   "source": [
    "For the key, the most streamed tracks are those in the key of C#. Between major and minor, the more streamed tracks are major."
   ]
  },
  {
   "cell_type": "code",
   "execution_count": 62,
   "id": "d02efc8e-4c46-4f2b-af9f-3134030df9af",
   "metadata": {},
   "outputs": [
    {
     "name": "stdout",
     "output_type": "stream",
     "text": [
      "   key       streams\n",
      "0    A  4.088414e+08\n",
      "1   A#  5.524754e+08\n",
      "2    B  5.193480e+08\n",
      "3   C#  6.042802e+08\n",
      "4    D  5.295256e+08\n",
      "5   D#  5.530365e+08\n",
      "6    E  5.774972e+08\n",
      "7    F  4.684464e+08\n",
      "8   F#  5.223632e+08\n",
      "9    G  4.525994e+08\n",
      "10  G#  4.769119e+08 \n",
      "\n",
      "    mode       streams\n",
      "0  Major  5.348328e+08\n",
      "1  Minor  4.859445e+08 \n",
      "\n"
     ]
    }
   ],
   "source": [
    "#Make it so that datatype values are only integers\n",
    "data['streams'] = pd.to_numeric(data['streams'], errors='coerce')\n",
    "\n",
    "#Group the data, and get the average\n",
    "streams_key = data.groupby(['key'])[['streams']].mean()\n",
    "streams_mode = data.groupby(['mode'])[['streams']].mean()\n",
    "\n",
    "#Print the results\n",
    "print(streams_key.reset_index(),'\\n')\n",
    "print(streams_mode.reset_index(),'\\n')"
   ]
  },
  {
   "cell_type": "markdown",
   "id": "88b66339-d460-4a93-91b1-e5b27f97ea76",
   "metadata": {},
   "source": [
    "### Do certain genres or artists consistently appear in more playlists or charts? Perform an analysis to compare the most frequently appearing artists in playlists or charts."
   ]
  },
  {
   "cell_type": "markdown",
   "id": "c33b59ac-dcbf-4c25-b162-6d9888159d75",
   "metadata": {},
   "source": [
    "Certain artists do consistently appear in more playlists and charts, as proven by the obtained values below displaying the artists with the most appearances across all platforms."
   ]
  },
  {
   "cell_type": "code",
   "execution_count": 85,
   "id": "9d212c9a-92e3-42ad-859d-2fd94bfeb267",
   "metadata": {},
   "outputs": [
    {
     "name": "stdout",
     "output_type": "stream",
     "text": [
      "Top 5 artists by appearances: artist(s)_name\n",
      "The Weeknd      150273.0\n",
      "Taylor Swift    140755.0\n",
      "Ed Sheeran      133407.0\n",
      "Harry Styles    115338.0\n",
      "Eminem           88523.0\n",
      "Name: total_appearances, dtype: float64\n"
     ]
    }
   ],
   "source": [
    "#Declare a variable with the needed data\n",
    "playlists_and_charts = [\n",
    "    'in_spotify_playlists', 'in_spotify_charts', \n",
    "    'in_apple_playlists', 'in_apple_charts', \n",
    "    'in_deezer_playlists', 'in_deezer_charts', \n",
    "    'in_shazam_charts'\n",
    "]\n",
    "\n",
    "#Make it so that datatype values are only integers\n",
    "data[playlists_and_charts] = data[playlists_and_charts].apply(pd.to_numeric, errors='coerce')\n",
    "\n",
    "#Add all of the data\n",
    "data['total_appearances'] = data[playlists_and_charts].sum(axis=1)\n",
    "\n",
    "#Group the artists by the previously declared sum of all appearances\n",
    "artist_appearances = data.groupby('artist(s)_name')['total_appearances'].sum()\n",
    "\n",
    "#Sort the values obtained\n",
    "top_artists = artist_appearances.sort_values(ascending=False).head()\n",
    "\n",
    "#Print the results\n",
    "print('Top 5 artists by appearances:', top_artists)"
   ]
  }
 ],
 "metadata": {
  "kernelspec": {
   "display_name": "Python 3 (ipykernel)",
   "language": "python",
   "name": "python3"
  },
  "language_info": {
   "codemirror_mode": {
    "name": "ipython",
    "version": 3
   },
   "file_extension": ".py",
   "mimetype": "text/x-python",
   "name": "python",
   "nbconvert_exporter": "python",
   "pygments_lexer": "ipython3",
   "version": "3.12.4"
  }
 },
 "nbformat": 4,
 "nbformat_minor": 5
}
